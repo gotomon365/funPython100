{
 "cells": [
  {
   "cell_type": "markdown",
   "id": "eafea60e",
   "metadata": {},
   "source": [
    "一個口袋有 12 顆球<br>\n",
    "已知有 3 個紅球，3 個白球，6 個黑球<br>\n",
    "從中取出 8 個球，請問共有多少種可能的搭配"
   ]
  },
  {
   "cell_type": "markdown",
   "id": "1763508e",
   "metadata": {},
   "source": [
    "### 題目分析\n",
    "我們可以先窮舉紅球跟白球的數量<br>\n",
    "因為黑球只有6顆，所以紅球＋白球數量不可以小於2<br>"
   ]
  },
  {
   "cell_type": "code",
   "execution_count": 3,
   "id": "90626069",
   "metadata": {},
   "outputs": [
    {
     "name": "stdout",
     "output_type": "stream",
     "text": [
      "\t 紅球 \t 白球 \t 黑球\n",
      "..................................................\n",
      " 1: \t 0 \t 2 \t 6\n",
      " 2: \t 0 \t 3 \t 5\n",
      " 3: \t 1 \t 1 \t 6\n",
      " 4: \t 1 \t 2 \t 5\n",
      " 5: \t 1 \t 3 \t 4\n",
      " 6: \t 2 \t 0 \t 6\n",
      " 7: \t 2 \t 1 \t 5\n",
      " 8: \t 2 \t 2 \t 4\n",
      " 9: \t 2 \t 3 \t 3\n",
      "10: \t 3 \t 0 \t 5\n",
      "11: \t 3 \t 1 \t 4\n",
      "12: \t 3 \t 2 \t 3\n",
      "13: \t 3 \t 3 \t 2\n"
     ]
    }
   ],
   "source": [
    "if __name__ == \"__main__\":\n",
    "    print(\"\\t 紅球 \\t 白球 \\t 黑球\")\n",
    "    print(\".\" * 50)\n",
    "    cunt = 0\n",
    "    for r in range(4):\n",
    "        for w in range(4):\n",
    "            if r + w >= 2:\n",
    "                b = 8 - r - w\n",
    "                cunt += 1\n",
    "                print(\"%2d: \\t %d \\t %d \\t %d\" %(cunt, r, w, b))\n",
    "    "
   ]
  },
  {
   "cell_type": "code",
   "execution_count": null,
   "id": "c886aca9",
   "metadata": {},
   "outputs": [],
   "source": []
  }
 ],
 "metadata": {
  "kernelspec": {
   "display_name": "Python 3 (ipykernel)",
   "language": "python",
   "name": "python3"
  },
  "language_info": {
   "codemirror_mode": {
    "name": "ipython",
    "version": 3
   },
   "file_extension": ".py",
   "mimetype": "text/x-python",
   "name": "python",
   "nbconvert_exporter": "python",
   "pygments_lexer": "ipython3",
   "version": "3.9.12"
  }
 },
 "nbformat": 4,
 "nbformat_minor": 5
}
