{
 "cells": [
  {
   "cell_type": "markdown",
   "id": "3437895d",
   "metadata": {},
   "source": [
    "寫一個程式要求輸入收入金額後，能夠輸出應繳的個人所得稅<br>\n",
    "起徵點為2000元，將金額分成以下幾個部分徵收不同的稅率<br>\n",
    "(一開始的錢要先減去 2000)\n",
    "* 不超過 500， 徵收 %5\n",
    "* 500 ~ 2000， 徵收 10%\n",
    "* 2000 ~ 5000， 徵收 15%\n",
    "* 5000 ~ 20000， 徵收 20%\n",
    "* 20000 ~ 40000， 徵收 25%\n",
    "* 40000 ~ 60000， 徵收 30%\n",
    "* 60000 ~ 80000， 徵收 35%\n",
    "* 80000 ~ 100000， 徵收 40%\n",
    "* 超過 100000， 徵收 45%"
   ]
  },
  {
   "cell_type": "code",
   "execution_count": 1,
   "id": "a8f74a0f",
   "metadata": {},
   "outputs": [
    {
     "data": {
      "text/plain": [
       "9223372036854775807"
      ]
     },
     "execution_count": 1,
     "metadata": {},
     "output_type": "execute_result"
    }
   ],
   "source": [
    "import sys\n",
    "max = sys.maxsize\n",
    "max"
   ]
  },
  {
   "cell_type": "code",
   "execution_count": 14,
   "id": "dd45dc3e",
   "metadata": {},
   "outputs": [],
   "source": [
    "def countTax(money):\n",
    "    taxTable = [\n",
    "        (0, 500, 0.05),\n",
    "        (500, 2000, 0.1),\n",
    "        (2000, 5000, 0.15),\n",
    "        (5000, 20000, 0.2),\n",
    "        (20000, 40000, 0.25),\n",
    "        (40000, 60000, 0.30),\n",
    "        (60000, 80000, 0.35),\n",
    "        (80000, 100000, 0.4),\n",
    "        (100000, max, 0.45)\n",
    "        \n",
    "    ]\n",
    "    tax = 0\n",
    "    index = 0\n",
    "    while money > taxTable[index][1]:\n",
    "        index += 1\n",
    "    for i in range(index):\n",
    "        tax += (taxTable[i][1] - taxTable[i][0]) * taxTable[i][2]\n",
    "    \n",
    "    tax += (money - taxTable[index][0]) * taxTable[index][2]\n",
    "    return tax"
   ]
  },
  {
   "cell_type": "code",
   "execution_count": 20,
   "id": "42c3cb54",
   "metadata": {},
   "outputs": [
    {
     "name": "stdout",
     "output_type": "stream",
     "text": [
      "請輸入金額5678\n",
      "426.7\n"
     ]
    }
   ],
   "source": [
    "money = int(input('請輸入金額'))\n",
    "if money <= 2000:\n",
    "    print(0)\n",
    "else:\n",
    "    print(countTax(money - 2000))"
   ]
  },
  {
   "cell_type": "code",
   "execution_count": null,
   "id": "f69279a8",
   "metadata": {},
   "outputs": [],
   "source": [
    "Ta"
   ]
  }
 ],
 "metadata": {
  "kernelspec": {
   "display_name": "Python 3 (ipykernel)",
   "language": "python",
   "name": "python3"
  },
  "language_info": {
   "codemirror_mode": {
    "name": "ipython",
    "version": 3
   },
   "file_extension": ".py",
   "mimetype": "text/x-python",
   "name": "python",
   "nbconvert_exporter": "python",
   "pygments_lexer": "ipython3",
   "version": "3.9.12"
  }
 },
 "nbformat": 4,
 "nbformat_minor": 5
}
