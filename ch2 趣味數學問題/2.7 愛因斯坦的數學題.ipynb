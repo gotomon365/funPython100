{
 "cells": [
  {
   "cell_type": "markdown",
   "id": "8484a0c0",
   "metadata": {},
   "source": [
    "愛因斯坦提出了一道這樣的數學題目：<br>\n",
    "有一條長階梯<br>\n",
    "\n",
    "* 每步2階，剩下1階\n",
    "* 每步3階，剩下2階\n",
    "* 每步5階，剩下4階\n",
    "* 每步6階，剩下5階\n",
    "* 每步7階，剛好走完\n",
    "---\n",
    "請問 1 - n 內，有多少個數可以滿足呢？"
   ]
  },
  {
   "cell_type": "markdown",
   "id": "3fb4df19",
   "metadata": {},
   "source": [
    "### 解題思維1\n",
    "這題可以直接暴力解就可以了"
   ]
  },
  {
   "cell_type": "code",
   "execution_count": 7,
   "id": "e46ae484",
   "metadata": {},
   "outputs": [],
   "source": [
    "def findNumber(number):\n",
    "    for n in range(number):\n",
    "        n += 1 \n",
    "        # 技巧改變判斷的順序，會更快喔! if n % 7 == 0 and (...):\n",
    "        # 若是用 7 的倍數去判斷也會更快\n",
    "        if n % 2 == 1 and n % 3 == 2 and n % 5 ==4 and n % 6 == 5 and n % 7 == 0:\n",
    "            print(n)"
   ]
  },
  {
   "cell_type": "code",
   "execution_count": 5,
   "id": "83e672b1",
   "metadata": {},
   "outputs": [
    {
     "name": "stdout",
     "output_type": "stream",
     "text": [
      "請輸入數字400\n",
      "119\n",
      "329\n"
     ]
    }
   ],
   "source": [
    "if __name__ == \"__main__\":\n",
    "    findNumber(int(input(\"請輸入數字\")))"
   ]
  },
  {
   "cell_type": "markdown",
   "id": "1a9e7b02",
   "metadata": {},
   "source": [
    "### 解題思維2\n",
    "數學的思維，可以思考這數字都會為 2, 3, 5, 6 的公倍數 -1"
   ]
  },
  {
   "cell_type": "code",
   "execution_count": 6,
   "id": "bff02593",
   "metadata": {},
   "outputs": [
    {
     "name": "stdout",
     "output_type": "stream",
     "text": [
      "請輸入一個數字400\n",
      "119\n",
      "329\n"
     ]
    }
   ],
   "source": [
    "if __name__ == \"__main__\":\n",
    "    n = int(input('請輸入一個數字'))\n",
    "    base = 2 * 3 * 5\n",
    "    n2 = -1\n",
    "    while n2 + base <= n:\n",
    "        n2 += base\n",
    "        if n2 % 7 == 0:\n",
    "            print(n2)"
   ]
  },
  {
   "cell_type": "code",
   "execution_count": null,
   "id": "afaece55",
   "metadata": {},
   "outputs": [],
   "source": []
  }
 ],
 "metadata": {
  "kernelspec": {
   "display_name": "Python 3 (ipykernel)",
   "language": "python",
   "name": "python3"
  },
  "language_info": {
   "codemirror_mode": {
    "name": "ipython",
    "version": 3
   },
   "file_extension": ".py",
   "mimetype": "text/x-python",
   "name": "python",
   "nbconvert_exporter": "python",
   "pygments_lexer": "ipython3",
   "version": "3.9.12"
  }
 },
 "nbformat": 4,
 "nbformat_minor": 5
}
