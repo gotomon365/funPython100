{
 "cells": [
  {
   "cell_type": "markdown",
   "id": "80fa4ce9",
   "metadata": {},
   "source": [
    "10 個小孩圍成一圈分糖果，老師依以下的數量去分糖果<br>\n",
    "1. 10\n",
    "2. 2\n",
    "3. 8\n",
    "4. 22\n",
    "5. 16\n",
    "6. 4\n",
    "7. 10\n",
    "8. 6\n",
    "9. 14\n",
    "10. 20\n",
    "---\n",
    "經歷以下步驟：<br>\n",
    "* 將自己的糖果分給右邊的小孩一半\n",
    "* 如果自己的糖果是奇數，可以跟老師再要一塊\n",
    "問：請問經過多少次這樣的步驟後，所有的糖果一樣多?<br>\n",
    "那每人各有多少快呢？"
   ]
  },
  {
   "cell_type": "markdown",
   "id": "9763913f",
   "metadata": {},
   "source": [
    "### 解題思路\n",
    "題目中的圍成一圈，是我們今天最需要學習的技巧<br>\n",
    "我們用陣列去思考，只要是能夠圍成一圈，就是將一個數字做 `%` 運算<br>\n"
   ]
  },
  {
   "cell_type": "code",
   "execution_count": 17,
   "id": "3ca374d5",
   "metadata": {},
   "outputs": [],
   "source": [
    "def countN(lst):\n",
    "    cnt = 0\n",
    "    while len(set(lst)) != 1:\n",
    "        temp = [0 for i in range(10)]\n",
    "        for i in range(len(lst)):\n",
    "            temp[(i+1) % 10] += (lst[i] // 2)\n",
    "            lst[i] //= 2\n",
    "        for i in range(len(lst)):\n",
    "            lst[i] += temp[i]\n",
    "        \n",
    "        for i in range(len(lst)):\n",
    "            if lst[i] % 2 == 1:\n",
    "                lst[i] += 1\n",
    "        print(lst)\n",
    "        cnt += 1\n",
    "     \n",
    "    return lst, cnt"
   ]
  },
  {
   "cell_type": "code",
   "execution_count": 18,
   "id": "fc9c9fac",
   "metadata": {
    "scrolled": true
   },
   "outputs": [
    {
     "name": "stdout",
     "output_type": "stream",
     "text": [
      "[6, 6, 16, 20, 10, 8, 8, 10, 18, 16]\n",
      "[6, 12, 18, 16, 10, 8, 10, 14, 18, 12]\n",
      "[10, 16, 18, 14, 10, 10, 12, 16, 16, 10]\n",
      "[14, 18, 16, 12, 10, 12, 14, 16, 14, 10]\n",
      "[16, 18, 14, 12, 12, 14, 16, 16, 12, 12]\n",
      "[18, 16, 14, 12, 14, 16, 16, 14, 12, 14]\n",
      "[18, 16, 14, 14, 16, 16, 16, 14, 14, 16]\n",
      "[18, 16, 14, 16, 16, 16, 16, 14, 16, 18]\n",
      "[18, 16, 16, 16, 16, 16, 16, 16, 18, 18]\n",
      "[18, 16, 16, 16, 16, 16, 16, 18, 18, 18]\n",
      "[18, 16, 16, 16, 16, 16, 18, 18, 18, 18]\n",
      "[18, 16, 16, 16, 16, 18, 18, 18, 18, 18]\n",
      "[18, 16, 16, 16, 18, 18, 18, 18, 18, 18]\n",
      "[18, 16, 16, 18, 18, 18, 18, 18, 18, 18]\n",
      "[18, 16, 18, 18, 18, 18, 18, 18, 18, 18]\n",
      "[18, 18, 18, 18, 18, 18, 18, 18, 18, 18]\n",
      "共需16次，每個人有18個糖果\n"
     ]
    }
   ],
   "source": [
    "if __name__ == \"__main__\":\n",
    "    start = [10, 2, 8, 22, 16, 4, 10, 6, 14, 20]\n",
    "    result, cnt = countN(start)\n",
    "    print(f'共需{cnt}次，每個人有{result[0]}個糖果')"
   ]
  },
  {
   "cell_type": "code",
   "execution_count": null,
   "id": "7527f6d7",
   "metadata": {},
   "outputs": [],
   "source": []
  }
 ],
 "metadata": {
  "kernelspec": {
   "display_name": "Python 3 (ipykernel)",
   "language": "python",
   "name": "python3"
  },
  "language_info": {
   "codemirror_mode": {
    "name": "ipython",
    "version": 3
   },
   "file_extension": ".py",
   "mimetype": "text/x-python",
   "name": "python",
   "nbconvert_exporter": "python",
   "pygments_lexer": "ipython3",
   "version": "3.9.12"
  }
 },
 "nbformat": 4,
 "nbformat_minor": 5
}
