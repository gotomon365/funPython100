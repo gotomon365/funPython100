{
 "cells": [
  {
   "cell_type": "markdown",
   "id": "6654170d",
   "metadata": {},
   "source": [
    "一輛以固定速率行駛的汽車，司機在里程表上看到的數字是一個對稱數 95859<br>\n",
    "兩個小時後出現了一個新的對稱數，請問該車的速度為多少？新的對稱數是多少？<br>"
   ]
  },
  {
   "cell_type": "markdown",
   "id": "8d8af2a7",
   "metadata": {},
   "source": [
    "### 解題思路\n",
    "要解決的怎麼驗證一個對稱數<br>\n",
    "在 python 裏面，一個字串可以看成是一個 list，用下標去驗證\n"
   ]
  },
  {
   "cell_type": "code",
   "execution_count": 1,
   "id": "21276464",
   "metadata": {},
   "outputs": [],
   "source": [
    "def check(str1):\n",
    "    head = 0\n",
    "    tail = len(str1) - 1\n",
    "    while head <= tail:\n",
    "        if str1[head] != str1[tail]:\n",
    "            return False\n",
    "        head += 1\n",
    "        tail -=1\n",
    "    return True"
   ]
  },
  {
   "cell_type": "code",
   "execution_count": 2,
   "id": "b4d1f70d",
   "metadata": {},
   "outputs": [
    {
     "name": "stdout",
     "output_type": "stream",
     "text": [
      "True\n"
     ]
    }
   ],
   "source": [
    "n = 95859\n",
    "# 要使用這個函數前要先用 str() 將數值轉成字串\n",
    "print(check(str(n)))    "
   ]
  },
  {
   "cell_type": "code",
   "execution_count": 4,
   "id": "2a74234b",
   "metadata": {},
   "outputs": [
    {
     "name": "stdout",
     "output_type": "stream",
     "text": [
      "False\n"
     ]
    }
   ],
   "source": [
    "n = 95860\n",
    "print(check(str(n)))"
   ]
  },
  {
   "cell_type": "code",
   "execution_count": 6,
   "id": "c8e11ed8",
   "metadata": {},
   "outputs": [
    {
     "name": "stdout",
     "output_type": "stream",
     "text": [
      "95959\n"
     ]
    }
   ],
   "source": [
    "if __name__ == \"__main__\":\n",
    "    n = 95859\n",
    "    n += 1\n",
    "    while not (check(str(n))):\n",
    "        n += 1\n",
    "        \n",
    "    print(n)"
   ]
  },
  {
   "cell_type": "code",
   "execution_count": 7,
   "id": "44d3d5f1",
   "metadata": {},
   "outputs": [
    {
     "name": "stdout",
     "output_type": "stream",
     "text": [
      "速度： 50.0\n"
     ]
    }
   ],
   "source": [
    "print(\"速度：\", (n - 95859) / 2 )"
   ]
  },
  {
   "cell_type": "code",
   "execution_count": null,
   "id": "3a1bfed3",
   "metadata": {},
   "outputs": [],
   "source": []
  }
 ],
 "metadata": {
  "kernelspec": {
   "display_name": "Python 3 (ipykernel)",
   "language": "python",
   "name": "python3"
  },
  "language_info": {
   "codemirror_mode": {
    "name": "ipython",
    "version": 3
   },
   "file_extension": ".py",
   "mimetype": "text/x-python",
   "name": "python",
   "nbconvert_exporter": "python",
   "pygments_lexer": "ipython3",
   "version": "3.9.12"
  }
 },
 "nbformat": 4,
 "nbformat_minor": 5
}
