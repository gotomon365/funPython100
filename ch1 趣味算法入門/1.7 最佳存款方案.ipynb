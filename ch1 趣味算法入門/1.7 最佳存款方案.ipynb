{
 "cells": [
  {
   "cell_type": "markdown",
   "id": "7ea396c2",
   "metadata": {},
   "source": [
    "假設銀行一年的月息為 6.3%.<br>\n",
    "現在某人手中有一筆錢，他打算在今後五年中每年年底取出1000元<br>\n",
    "到第五年的時候剛好取完，請問他原本存錢時有多少錢？"
   ]
  },
  {
   "cell_type": "markdown",
   "id": "fe6bcb08",
   "metadata": {},
   "source": [
    "###  題目分析"
   ]
  },
  {
   "cell_type": "code",
   "execution_count": 3,
   "id": "ec83b4ea",
   "metadata": {},
   "outputs": [
    {
     "data": {
      "text/html": [
       "<div>\n",
       "<style scoped>\n",
       "    .dataframe tbody tr th:only-of-type {\n",
       "        vertical-align: middle;\n",
       "    }\n",
       "\n",
       "    .dataframe tbody tr th {\n",
       "        vertical-align: top;\n",
       "    }\n",
       "\n",
       "    .dataframe thead th {\n",
       "        text-align: right;\n",
       "    }\n",
       "</style>\n",
       "<table border=\"1\" class=\"dataframe\">\n",
       "  <thead>\n",
       "    <tr style=\"text-align: right;\">\n",
       "      <th></th>\n",
       "      <th>年初存款</th>\n",
       "      <th>年初要有多少錢</th>\n",
       "    </tr>\n",
       "  </thead>\n",
       "  <tbody>\n",
       "    <tr>\n",
       "      <th>0</th>\n",
       "      <td>第5年存款</td>\n",
       "      <td>1000/(1+12x0.0063)</td>\n",
       "    </tr>\n",
       "    <tr>\n",
       "      <th>1</th>\n",
       "      <td>第4年存款</td>\n",
       "      <td>(1000+第5年年初存款)/(1+12x0.0063)</td>\n",
       "    </tr>\n",
       "    <tr>\n",
       "      <th>2</th>\n",
       "      <td>第3年存款</td>\n",
       "      <td>(1000+第4年年初存款)/(1+12x0.0063)</td>\n",
       "    </tr>\n",
       "    <tr>\n",
       "      <th>3</th>\n",
       "      <td>第2年存款</td>\n",
       "      <td>(1000+第3年年初存款)/(1+12x0.0063)</td>\n",
       "    </tr>\n",
       "    <tr>\n",
       "      <th>4</th>\n",
       "      <td>第1年存款</td>\n",
       "      <td>(1000+第2年年初存款)/(1+12x0.0063)</td>\n",
       "    </tr>\n",
       "  </tbody>\n",
       "</table>\n",
       "</div>"
      ],
      "text/plain": [
       "    年初存款                       年初要有多少錢\n",
       "0  第5年存款            1000/(1+12x0.0063)\n",
       "1  第4年存款  (1000+第5年年初存款)/(1+12x0.0063)\n",
       "2  第3年存款  (1000+第4年年初存款)/(1+12x0.0063)\n",
       "3  第2年存款  (1000+第3年年初存款)/(1+12x0.0063)\n",
       "4  第1年存款  (1000+第2年年初存款)/(1+12x0.0063)"
      ]
     },
     "execution_count": 3,
     "metadata": {},
     "output_type": "execute_result"
    }
   ],
   "source": [
    "import pandas as pd\n",
    "df = pd.read_csv('./moneysave.csv')\n",
    "df"
   ]
  },
  {
   "cell_type": "code",
   "execution_count": 5,
   "id": "95c86678",
   "metadata": {},
   "outputs": [
    {
     "name": "stdout",
     "output_type": "stream",
     "text": [
      "694.617998437003\n"
     ]
    }
   ],
   "source": [
    "if __name__ == \"__main__\":\n",
    "    rate = 1 + 12 * 0.0063\n",
    "    money = 0\n",
    "    for i in range(5):\n",
    "        money = (money + 1000) / rate\n",
    "        \n",
    "print(money)"
   ]
  },
  {
   "cell_type": "code",
   "execution_count": null,
   "id": "baa7f2c4",
   "metadata": {},
   "outputs": [],
   "source": []
  }
 ],
 "metadata": {
  "kernelspec": {
   "display_name": "Python 3 (ipykernel)",
   "language": "python",
   "name": "python3"
  },
  "language_info": {
   "codemirror_mode": {
    "name": "ipython",
    "version": 3
   },
   "file_extension": ".py",
   "mimetype": "text/x-python",
   "name": "python",
   "nbconvert_exporter": "python",
   "pygments_lexer": "ipython3",
   "version": "3.9.12"
  }
 },
 "nbformat": 4,
 "nbformat_minor": 5
}
