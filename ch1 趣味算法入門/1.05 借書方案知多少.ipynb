{
 "cells": [
  {
   "cell_type": "markdown",
   "id": "cbbaa76e",
   "metadata": {},
   "source": [
    "小明有5本新書<br>\n",
    "要借給 A, B, C 三個小朋友<br>\n",
    "若每人每次只能借一本<br>\n",
    "則可以有多少種借法呢？(須列出借法）<br>"
   ]
  },
  {
   "cell_type": "markdown",
   "id": "9aef0580",
   "metadata": {},
   "source": [
    "## 解題思路\n",
    "我們先將書編號 1, 2, 3, 4, 5\n",
    "想像一下 ABC 借的書<br>\n",
    "123<br>\n",
    "124<br>\n",
    "125<br>\n",
    "這其實就是一個 12345 選出三個數字排列<br>\n",
    "多少種可能在高中就會教到了<br>\n",
    "次數為<br>\n",
    "$$\n",
    "C^5_3 \\times 3! = 60\n",
    "$$\n",
    "這邊使用電腦幫忙列出所有可能性<br>\n",
    "<br>\n",
    "一樣使用暴力解法\n"
   ]
  },
  {
   "cell_type": "code",
   "execution_count": 4,
   "id": "1823b3ae",
   "metadata": {},
   "outputs": [
    {
     "name": "stdout",
     "output_type": "stream",
     "text": [
      "A:1, B:2, C:3\n",
      "A:1, B:2, C:4\n",
      "A:1, B:2, C:5\n",
      "A:1, B:3, C:2\n",
      "A:1, B:3, C:4\n",
      "A:1, B:3, C:5\n",
      "A:1, B:4, C:2\n",
      "A:1, B:4, C:3\n",
      "A:1, B:4, C:5\n",
      "A:1, B:5, C:2\n",
      "A:1, B:5, C:3\n",
      "A:1, B:5, C:4\n",
      "A:2, B:1, C:3\n",
      "A:2, B:1, C:4\n",
      "A:2, B:1, C:5\n",
      "A:2, B:3, C:1\n",
      "A:2, B:3, C:4\n",
      "A:2, B:3, C:5\n",
      "A:2, B:4, C:1\n",
      "A:2, B:4, C:3\n",
      "A:2, B:4, C:5\n",
      "A:2, B:5, C:1\n",
      "A:2, B:5, C:3\n",
      "A:2, B:5, C:4\n",
      "A:3, B:1, C:2\n",
      "A:3, B:1, C:4\n",
      "A:3, B:1, C:5\n",
      "A:3, B:2, C:1\n",
      "A:3, B:2, C:4\n",
      "A:3, B:2, C:5\n",
      "A:3, B:4, C:1\n",
      "A:3, B:4, C:2\n",
      "A:3, B:4, C:5\n",
      "A:3, B:5, C:1\n",
      "A:3, B:5, C:2\n",
      "A:3, B:5, C:4\n",
      "A:4, B:1, C:2\n",
      "A:4, B:1, C:3\n",
      "A:4, B:1, C:5\n",
      "A:4, B:2, C:1\n",
      "A:4, B:2, C:3\n",
      "A:4, B:2, C:5\n",
      "A:4, B:3, C:1\n",
      "A:4, B:3, C:2\n",
      "A:4, B:3, C:5\n",
      "A:4, B:5, C:1\n",
      "A:4, B:5, C:2\n",
      "A:4, B:5, C:3\n",
      "A:5, B:1, C:2\n",
      "A:5, B:1, C:3\n",
      "A:5, B:1, C:4\n",
      "A:5, B:2, C:1\n",
      "A:5, B:2, C:3\n",
      "A:5, B:2, C:4\n",
      "A:5, B:3, C:1\n",
      "A:5, B:3, C:2\n",
      "A:5, B:3, C:4\n",
      "A:5, B:4, C:1\n",
      "A:5, B:4, C:2\n",
      "A:5, B:4, C:3\n"
     ]
    }
   ],
   "source": [
    "if __name__ == \"__main__\":\n",
    "    for a in range(1, 6):\n",
    "        for b in range(1, 6):\n",
    "            for c in range(1, 6):\n",
    "                if a != b and b != c and a != c:    # 不能重複借，所以都不同\n",
    "                    print(f\"A:{a}, B:{b}, C:{c}\")"
   ]
  },
  {
   "cell_type": "code",
   "execution_count": null,
   "id": "e4bbe2a4",
   "metadata": {},
   "outputs": [],
   "source": []
  }
 ],
 "metadata": {
  "kernelspec": {
   "display_name": "Python 3 (ipykernel)",
   "language": "python",
   "name": "python3"
  },
  "language_info": {
   "codemirror_mode": {
    "name": "ipython",
    "version": 3
   },
   "file_extension": ".py",
   "mimetype": "text/x-python",
   "name": "python",
   "nbconvert_exporter": "python",
   "pygments_lexer": "ipython3",
   "version": "3.10.4"
  }
 },
 "nbformat": 4,
 "nbformat_minor": 5
}
