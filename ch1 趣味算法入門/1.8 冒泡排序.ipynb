{
 "cells": [
  {
   "cell_type": "markdown",
   "id": "c8255525",
   "metadata": {},
   "source": [
    "冒泡排序 <br>\n",
    "排序有很多種，冒泡排序是相當經典的一個<br>"
   ]
  },
  {
   "cell_type": "code",
   "execution_count": 8,
   "id": "aa063248",
   "metadata": {},
   "outputs": [
    {
     "name": "stdout",
     "output_type": "stream",
     "text": [
      "排序前\n",
      "[45, 49, 41, 5, 60, 84, 1, 66, 69, 16]\n",
      "排序後\n",
      "[1, 5, 16, 41, 45, 49, 60, 66, 69, 84]\n"
     ]
    }
   ],
   "source": [
    "\n",
    "\n",
    "def bubbleSort(lst):\n",
    "    for i in range(len(lst) - 1):\n",
    "        for k in range(len(lst) - i - 1):\n",
    "            if lst[k] > lst[k+1]:\n",
    "                lst[k], lst[k+1] = lst[k+1], lst[k]\n",
    "                \n",
    "if __name__ == \"__main__\":\n",
    "    lst = [45, 49, 41, 5, 60, 84, 1, 66, 69, 16]\n",
    "    print(\"排序前\")\n",
    "    print(lst)\n",
    "    bubbleSort(lst)\n",
    "    print(\"排序後\")\n",
    "    print(lst)\n",
    "    "
   ]
  },
  {
   "cell_type": "code",
   "execution_count": null,
   "id": "3bc958c4",
   "metadata": {},
   "outputs": [],
   "source": []
  }
 ],
 "metadata": {
  "kernelspec": {
   "display_name": "Python 3 (ipykernel)",
   "language": "python",
   "name": "python3"
  },
  "language_info": {
   "codemirror_mode": {
    "name": "ipython",
    "version": 3
   },
   "file_extension": ".py",
   "mimetype": "text/x-python",
   "name": "python",
   "nbconvert_exporter": "python",
   "pygments_lexer": "ipython3",
   "version": "3.9.12"
  }
 },
 "nbformat": 4,
 "nbformat_minor": 5
}
