{
 "cells": [
  {
   "cell_type": "markdown",
   "id": "cb245936",
   "metadata": {},
   "source": [
    "一輛卡車違反交通規則，撞人後逃跑。<br>\n",
    "現場有三個人目擊該事件，但是都沒有記住車牌，只記下一些特徵。\n",
    "* 甲：牌照的前兩位數字是相同的\n",
    "* 乙：牌照的後兩位數字是相同的，但是和前兩位不同。\n",
    "* 丙：4 位數自剛好是一個整數的平方。\n",
    "<br>\n",
    "<p>\n",
    "根據以上線索找出車牌號碼。"
   ]
  },
  {
   "cell_type": "code",
   "execution_count": 2,
   "id": "edf61dff",
   "metadata": {},
   "outputs": [
    {
     "name": "stdout",
     "output_type": "stream",
     "text": [
      "7744\n"
     ]
    }
   ],
   "source": [
    "if __name__ == \"__main__\":\n",
    "    for i in range(10):\n",
    "        for j in range(10):\n",
    "            if i != j:\n",
    "                n = 1100 * i + 11 * j\n",
    "                for temp in range(32, 100):\n",
    "                    if temp * temp == n:\n",
    "                        print(n)"
   ]
  },
  {
   "cell_type": "code",
   "execution_count": null,
   "id": "cae01fd6",
   "metadata": {},
   "outputs": [],
   "source": []
  }
 ],
 "metadata": {
  "kernelspec": {
   "display_name": "Python 3 (ipykernel)",
   "language": "python",
   "name": "python3"
  },
  "language_info": {
   "codemirror_mode": {
    "name": "ipython",
    "version": 3
   },
   "file_extension": ".py",
   "mimetype": "text/x-python",
   "name": "python",
   "nbconvert_exporter": "python",
   "pygments_lexer": "ipython3",
   "version": "3.9.12"
  }
 },
 "nbformat": 4,
 "nbformat_minor": 5
}
