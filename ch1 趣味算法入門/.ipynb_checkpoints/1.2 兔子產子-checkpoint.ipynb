{
 "cells": [
  {
   "cell_type": "markdown",
   "id": "504d1340",
   "metadata": {},
   "source": [
    "有一對兔子，從出生後的第3個月開始每個月都生一對小兔子<br>\n",
    "小兔子長到第3個月後又會生一對小兔子\n"
   ]
  }
 ],
 "metadata": {
  "kernelspec": {
   "display_name": "Python 3 (ipykernel)",
   "language": "python",
   "name": "python3"
  },
  "language_info": {
   "codemirror_mode": {
    "name": "ipython",
    "version": 3
   },
   "file_extension": ".py",
   "mimetype": "text/x-python",
   "name": "python",
   "nbconvert_exporter": "python",
   "pygments_lexer": "ipython3",
   "version": "3.10.4"
  }
 },
 "nbformat": 4,
 "nbformat_minor": 5
}
