{
 "cells": [
  {
   "cell_type": "markdown",
   "id": "3fa373e7",
   "metadata": {},
   "source": [
    "如果這題太難，可以使用二元一次聯立方程式<br>\n",
    "$$\n",
    "\\begin{array}{2}\n",
    "a_1x + b_1y = c_1 \\\\\n",
    "a_2x + b_2y = c_2\n",
    "\\end{array}\n",
    "$$"
   ]
  },
  {
   "cell_type": "markdown",
   "id": "16cf59e9",
   "metadata": {},
   "source": [
    "進入主題 <p>\n",
    "方程式為\n",
    "$$\n",
    "ax^3 + bx^2 + cx + d = 0\n",
    "$$\n",
    "係數 $a$, $b$, $c$, $d$由主函數輸入 <br>\n",
    "求 $x$ 在1附近的一個實根。<br>\n",
    "牛頓迭代法的公式 $x = x_0 - \\dfrac{f(x_0)}{f'(x_0)}$，設迭代到$|x - x_0| \\leq 10^{-5}$"
   ]
  },
  {
   "cell_type": "code",
   "execution_count": null,
   "id": "6d70c5da",
   "metadata": {},
   "outputs": [],
   "source": [
    "if __name__ == \"__main__\":\n",
    "    "
   ]
  }
 ],
 "metadata": {
  "kernelspec": {
   "display_name": "Python 3 (ipykernel)",
   "language": "python",
   "name": "python3"
  },
  "language_info": {
   "codemirror_mode": {
    "name": "ipython",
    "version": 3
   },
   "file_extension": ".py",
   "mimetype": "text/x-python",
   "name": "python",
   "nbconvert_exporter": "python",
   "pygments_lexer": "ipython3",
   "version": "3.10.4"
  }
 },
 "nbformat": 4,
 "nbformat_minor": 5
}
