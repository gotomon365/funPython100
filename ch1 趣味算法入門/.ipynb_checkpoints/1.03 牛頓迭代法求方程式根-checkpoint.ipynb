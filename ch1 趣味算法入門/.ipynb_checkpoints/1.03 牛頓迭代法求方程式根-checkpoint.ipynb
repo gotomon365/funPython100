{
 "cells": [
  {
   "cell_type": "markdown",
   "id": "3fa373e7",
   "metadata": {},
   "source": [
    "如果這題太難，可以使用二元一次聯立方程式<br>\n",
    "$$\n",
    "\\begin{array}{2}\n",
    "a_1x + b_1y = c_1 \\\\\n",
    "a_2x + b_2y = c_2\n",
    "\\end{array}\n",
    "$$"
   ]
  },
  {
   "cell_type": "markdown",
   "id": "16cf59e9",
   "metadata": {},
   "source": [
    "進入主題 <p>\n",
    "方程式為\n",
    "$$\n",
    "ax^3 + bx^2 + cx + d = 0\n",
    "$$\n",
    "係數 $a$, $b$, $c$, $d$由主函數輸入 <br>\n",
    "求 $x$ 在1附近的一個實根。<br>\n",
    "牛頓迭代法的公式 $x = x_0 - \\dfrac{f(x_0)}{f'(x_0)}$，設迭代到$|x - x_0| \\leq 10^{-5}$"
   ]
  },
  {
   "cell_type": "code",
   "execution_count": 2,
   "id": "6d70c5da",
   "metadata": {},
   "outputs": [
    {
     "name": "stdout",
     "output_type": "stream",
     "text": [
      "請輸入係數。例:3 5 10 2\n",
      "2 -4 3 -6\n",
      "方程是的係數為 2.0 -4.0 3.0 -6.0\n",
      "所求方程的根為 x = 2.000000\n"
     ]
    }
   ],
   "source": [
    "def sol(a, b, c, d):\n",
    "    x = 1.5\n",
    "    x0 = x\n",
    "    f = a * x0 ** 3 + b * x0 ** 2 + c * x0 + d\n",
    "    fd = 3 * a * x0 ** 2 + 2 * b * x0 + c\n",
    "    h = f / fd\n",
    "    x = x0 - h\n",
    "    while abs(x - x0) > 1e-5:\n",
    "        x0 = x\n",
    "        f = a * x0 ** 3 + b * x0 ** 2 + c * x0 + d\n",
    "        fd = 3 * a * x0 ** 2 + 2 * b * x0 + c\n",
    "        h = f / fd\n",
    "        x = x0 - h\n",
    "    \n",
    "    return x\n",
    "\n",
    "if __name__ == \"__main__\":\n",
    "    print(\"請輸入係數。例:3 5 10 2\")\n",
    "    a, b, c, d = map(float, input().split())\n",
    "    print(\"方程是的係數為\", a, b, c, d)\n",
    "    x = sol(a, b, c, d)\n",
    "    print(\"所求方程的根為 x = %.6f\" %x)\n",
    "    "
   ]
  },
  {
   "cell_type": "code",
   "execution_count": null,
   "id": "ab2f07dd",
   "metadata": {},
   "outputs": [],
   "source": []
  }
 ],
 "metadata": {
  "kernelspec": {
   "display_name": "Python 3 (ipykernel)",
   "language": "python",
   "name": "python3"
  },
  "language_info": {
   "codemirror_mode": {
    "name": "ipython",
    "version": 3
   },
   "file_extension": ".py",
   "mimetype": "text/x-python",
   "name": "python",
   "nbconvert_exporter": "python",
   "pygments_lexer": "ipython3",
   "version": "3.9.12"
  }
 },
 "nbformat": 4,
 "nbformat_minor": 5
}
