{
 "cells": [
  {
   "cell_type": "markdown",
   "id": "32cca473",
   "metadata": {},
   "source": [
    "中國古代數學家張丘建在他的算經中提出了一個著名的“百錢百雞”的問題：<br>\n",
    "一隻公雞5錢，一隻母雞3錢，三隻小雞1錢，<br>\n",
    "現在要用百錢買百雞，請問公雞、母雞、小雞各幾隻？"
   ]
  },
  {
   "cell_type": "markdown",
   "id": "b35562f0",
   "metadata": {},
   "source": [
    "## 解題思路\n",
    "暴力解法<br>\n",
    "把所有公雞母雞小雞的可能性都用重複結構（迴圈）跑出來<br>\n",
    "再用判斷是否合理<br>\n",
    "小雞的數量是一個技巧，因為錢是整數<br>\n",
    "所以小雞的數量只有可能為 0, 3, 6, ...<br>\n",
    "可以使用`for k in range(0, 301, 3):` 設定  step 去達成"
   ]
  },
  {
   "cell_type": "code",
   "execution_count": 1,
   "id": "06a32a33",
   "metadata": {},
   "outputs": [
    {
     "name": "stdout",
     "output_type": "stream",
     "text": [
      "公雞0 母雞25 小雞75\n",
      "公雞4 母雞18 小雞78\n",
      "公雞8 母雞11 小雞81\n",
      "公雞12 母雞4 小雞84\n"
     ]
    }
   ],
   "source": [
    "if __name__ == \"__main__\":\n",
    "    for i in range(0, 21):\n",
    "        for j in range(0, 34):\n",
    "            for k in range(0, 301, 3):\n",
    "                if i + j + k == 100 and i * 5 + j * 3 + (k//3) == 100:\n",
    "                    print(f\"公雞{i} 母雞{j} 小雞{k}\")"
   ]
  },
  {
   "cell_type": "code",
   "execution_count": null,
   "id": "446f530d",
   "metadata": {},
   "outputs": [],
   "source": []
  }
 ],
 "metadata": {
  "kernelspec": {
   "display_name": "Python 3 (ipykernel)",
   "language": "python",
   "name": "python3"
  },
  "language_info": {
   "codemirror_mode": {
    "name": "ipython",
    "version": 3
   },
   "file_extension": ".py",
   "mimetype": "text/x-python",
   "name": "python",
   "nbconvert_exporter": "python",
   "pygments_lexer": "ipython3",
   "version": "3.10.4"
  }
 },
 "nbformat": 4,
 "nbformat_minor": 5
}
