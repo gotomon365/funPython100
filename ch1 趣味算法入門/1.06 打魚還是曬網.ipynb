{
 "cells": [
  {
   "cell_type": "markdown",
   "id": "6087728a",
   "metadata": {},
   "source": [
    "中國有句俗語叫做三天打魚兩天曬網。<br>\n",
    "某人從1990年1月1日起便開始三天打魚兩天曬網，<br>\n",
    "問這個人在以後的某一天是打魚還是曬網？<br>\n",
    "結果輸出打魚或是曬網<br>\n",
    "這題的輸入格式是固定的 例如 1993 3 7<br>\n",
    "<br>\n",
    "閏年判斷法\n",
    "1. 除以4整除但除100不整除\n",
    "2. 除以400整除"
   ]
  },
  {
   "cell_type": "markdown",
   "id": "56761884",
   "metadata": {},
   "source": [
    "## 解題思路\n",
    "這題需要解決的問題比較多<br>\n",
    "1. 大方向為判斷輸入日期和 1990 1 1 的天數差距，除以5的餘數就知道是打魚還是曬網\n",
    "2. **年的差異上，會有當年是否為閏年** <- 這是此問題中最複雜的 <br>\n",
    "<p>下面舉一個例子\n",
    "    判斷 1995 3 4 和 1990 1 1 號的差異"
   ]
  },
  {
   "cell_type": "markdown",
   "id": "9f9f9e3a",
   "metadata": {},
   "source": [
    "1995 和 1990 之間差了 5 年，其中必須判斷每一個年份是否為閏年"
   ]
  },
  {
   "cell_type": "code",
   "execution_count": 12,
   "id": "a9466632",
   "metadata": {},
   "outputs": [
    {
     "name": "stdout",
     "output_type": "stream",
     "text": [
      "1990 False  + 365天\n",
      "1991 False  + 365天\n",
      "1992 True   + 366天\n",
      "1993 False  + 365天\n",
      "1994 False  + 365天\n"
     ]
    }
   ],
   "source": [
    "for year in range(1990, 1995):\n",
    "    result = (year % 4 == 0 and year % 100 != 0) or year % 400 == 0 \n",
    "    print(year, result, end=\" \")\n",
    "    if result:\n",
    "        print(\"  + 366天\")\n",
    "    else:\n",
    "        print(\" + 365天\")"
   ]
  },
  {
   "cell_type": "markdown",
   "id": "5b2a8dff",
   "metadata": {},
   "source": [
    "再來針對目標 1995 判斷是不是閏年，所以要注意看看有沒有經過2月<br>\n",
    "若有，就要加上 29 天<br>\n",
    "會用個陣列去儲存每個月的天數<br>\n",
    "`month = [31, 28, 31, 30, 31, 30, 31, 31, 30, 31, 30, 31]`\n",
    "等一下這也是一個技巧<br>\n",
    "\n",
    "---\n",
    "1995 年不是閏年，3月 - 目標的1月 = 2<br>"
   ]
  },
  {
   "cell_type": "code",
   "execution_count": 1,
   "id": "307c9c2e",
   "metadata": {},
   "outputs": [
    {
     "name": "stdout",
     "output_type": "stream",
     "text": [
      "1 + 31\n",
      "2 + 28\n"
     ]
    }
   ],
   "source": [
    "month = [31, 28, 31, 30, 31, 30, 31, 31, 30, 31, 30, 31]\n",
    "for m in range(1, 3):\n",
    "    print(m, \"+\", month[m-1])"
   ]
  },
  {
   "cell_type": "markdown",
   "id": "304f5798",
   "metadata": {},
   "source": [
    "最後再算天數差即可"
   ]
  },
  {
   "cell_type": "markdown",
   "id": "a5a91f0e",
   "metadata": {},
   "source": [
    "## 完整程式碼如下"
   ]
  },
  {
   "cell_type": "code",
   "execution_count": 11,
   "id": "daceecf3",
   "metadata": {},
   "outputs": [
    {
     "name": "stdout",
     "output_type": "stream",
     "text": [
      "Please input: 年 月 日\n",
      "2012 10 25\n",
      "8334\n",
      "曬網\n"
     ]
    }
   ],
   "source": [
    "def countDay(year, month, day):\n",
    "    monthL = [31, 28, 31, 30, 31, 30, 31, 31, 30, 31, 30, 31]\n",
    "    total = 0\n",
    "    # 處理年\n",
    "    for i in range(1990, year):\n",
    "        if runYear(i):\n",
    "            total += 366\n",
    "        else:\n",
    "            total += 365\n",
    "    # 處理月，先判斷當年是否為閏年\n",
    "    if runYear(year):\n",
    "        monthL[1] += 1\n",
    "    for i in range(1, month):\n",
    "        total += monthL[i - 1]\n",
    "        \n",
    "    # 處理日，直接加上去即可\n",
    "    total += day\n",
    "    print(total)\n",
    "    return total\n",
    "    \n",
    "\n",
    "def runYear(year):\n",
    "    return (year % 4 == 0 and year % 100 != 0) or year % 400 == 0 \n",
    "\n",
    "if __name__ == \"__main__\":\n",
    "    print(\"Please input: 年 月 日\")\n",
    "    y, m, d = [int(i) for i in input().split()]\n",
    "    total = countDay(y, m, d)\n",
    "    if total %5 > 0 and total % 5 < 4:\n",
    "        print(\"打魚\")\n",
    "    else:\n",
    "        print(\"曬網\")"
   ]
  },
  {
   "cell_type": "markdown",
   "id": "61de9001",
   "metadata": {},
   "source": [
    "以下給一些測資<br>\n",
    "2010 1 31 -> 7336 天，打魚<br>\n",
    "2010 10 25 -> 7603 天，打魚<br>\n",
    "2012 10 25 -> 8334 天，曬網<br>"
   ]
  },
  {
   "cell_type": "code",
   "execution_count": null,
   "id": "db398e7f",
   "metadata": {},
   "outputs": [],
   "source": []
  }
 ],
 "metadata": {
  "kernelspec": {
   "display_name": "Python 3 (ipykernel)",
   "language": "python",
   "name": "python3"
  },
  "language_info": {
   "codemirror_mode": {
    "name": "ipython",
    "version": 3
   },
   "file_extension": ".py",
   "mimetype": "text/x-python",
   "name": "python",
   "nbconvert_exporter": "python",
   "pygments_lexer": "ipython3",
   "version": "3.10.4"
  }
 },
 "nbformat": 4,
 "nbformat_minor": 5
}
