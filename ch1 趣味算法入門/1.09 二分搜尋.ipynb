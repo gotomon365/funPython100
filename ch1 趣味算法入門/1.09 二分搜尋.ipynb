{
 "cells": [
  {
   "cell_type": "markdown",
   "id": "f3dac190",
   "metadata": {},
   "source": [
    "二分搜尋最重要的想法就是拆半<br>\n",
    "divide and conquer 是演算法的重要概念，也是 apcs 中實作題後兩題會用到的概念<br>\n",
    "用以下這個 lst = [1, 5, 16, 41, 45, 49, 60, 66, 69, 84] 來練習二分搜尋\n"
   ]
  },
  {
   "cell_type": "code",
   "execution_count": 7,
   "id": "c7658cc7",
   "metadata": {},
   "outputs": [
    {
     "name": "stdout",
     "output_type": "stream",
     "text": [
      "[1, 5, 16, 41, 45, 49, 60, 66, 69, 84]\n",
      "請輸入你要尋找的數字：6\n",
      "找不到\n"
     ]
    }
   ],
   "source": [
    "def binarySearch(target, lst):\n",
    "    head = 0\n",
    "    tail = len(lst) - 1\n",
    "    while head <= tail:\n",
    "        mid = (head + tail) // 2\n",
    "        if lst[mid] < target:\n",
    "            head += 1\n",
    "        elif lst[mid] > target:\n",
    "            tail -= 1\n",
    "        else:\n",
    "            return mid\n",
    "    return -1\n",
    "\n",
    "if __name__ == \"__main__\":\n",
    "    lst = [1, 5, 16, 41, 45, 49, 60, 66, 69, 84]\n",
    "    print(lst)\n",
    "    target = int(input(\"請輸入你要尋找的數字：\"))\n",
    "    result = binarySearch(target, lst)\n",
    "    if result < 0:\n",
    "        print(\"找不到\")\n",
    "    else:\n",
    "        print(f'在{result}的位置')"
   ]
  },
  {
   "cell_type": "code",
   "execution_count": null,
   "id": "4bc0995e",
   "metadata": {},
   "outputs": [],
   "source": []
  }
 ],
 "metadata": {
  "kernelspec": {
   "display_name": "Python 3 (ipykernel)",
   "language": "python",
   "name": "python3"
  },
  "language_info": {
   "codemirror_mode": {
    "name": "ipython",
    "version": 3
   },
   "file_extension": ".py",
   "mimetype": "text/x-python",
   "name": "python",
   "nbconvert_exporter": "python",
   "pygments_lexer": "ipython3",
   "version": "3.9.12"
  }
 },
 "nbformat": 4,
 "nbformat_minor": 5
}
