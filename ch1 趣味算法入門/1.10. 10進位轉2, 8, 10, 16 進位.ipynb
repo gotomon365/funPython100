{
 "cells": [
  {
   "cell_type": "markdown",
   "id": "65a36e3d",
   "metadata": {},
   "source": [
    "輸入一個10進位數字，依選擇輸出2, 8, 10, 16進位<br>\n",
    "這題的技巧相當值得學習，輸出有四種選擇，但是卻是用同一個方法處理"
   ]
  },
  {
   "cell_type": "code",
   "execution_count": 4,
   "id": "65e3b1c3",
   "metadata": {},
   "outputs": [
    {
     "name": "stdout",
     "output_type": "stream",
     "text": [
      "請輸入10進位的數字254\n",
      "請輸入想轉換的進制16\n",
      "FE\n"
     ]
    }
   ],
   "source": [
    "if __name__ == \"__main__\":\n",
    "    lst = ['0', '1', '2', '3', '4', '5', '6', '7', '8', '9', 'A', 'B', 'C', 'D', 'E', 'F']\n",
    "    a = int(input('請輸入10進位的數字'))\n",
    "    b = int(input('請輸入想轉換的進制'))\n",
    "    a = int(a)\n",
    "    b = int(b)\n",
    "    res = \"\"\n",
    "\n",
    "    while a != 0:\n",
    "        res += lst[a % b]\n",
    "        a = a // b\n",
    "\n",
    "    print(res[::-1])"
   ]
  }
 ],
 "metadata": {
  "kernelspec": {
   "display_name": "Python 3 (ipykernel)",
   "language": "python",
   "name": "python3"
  },
  "language_info": {
   "codemirror_mode": {
    "name": "ipython",
    "version": 3
   },
   "file_extension": ".py",
   "mimetype": "text/x-python",
   "name": "python",
   "nbconvert_exporter": "python",
   "pygments_lexer": "ipython3",
   "version": "3.9.12"
  }
 },
 "nbformat": 4,
 "nbformat_minor": 5
}
